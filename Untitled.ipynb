{
 "cells": [
  {
   "cell_type": "code",
   "execution_count": 3,
   "id": "435159e4-22a5-4355-a98f-ad8380fab0c0",
   "metadata": {},
   "outputs": [
    {
     "name": "stdout",
     "output_type": "stream",
     "text": [
      "cuda\n"
     ]
    }
   ],
   "source": [
    "import torch\n",
    "from transformers import AutoTokenizer, AutoModelForCausalLM\n",
    " \n",
    "if torch.cuda.is_available():\n",
    "    device = torch.device('cuda')\n",
    "else:\n",
    "    device = torch.device('cpu')\n",
    "\n",
    "print(device)"
   ]
  },
  {
   "cell_type": "code",
   "execution_count": 2,
   "id": "2a0f172d-c2df-43c7-9e79-b38632c35fa2",
   "metadata": {},
   "outputs": [],
   "source": [
    "tokenizer = AutoTokenizer.from_pretrained(r\"C:\\Users\\ilyam\\Desktop\\schoolDS_progect\\RedPajama-INCITE-Chat-3B-v1\")\n",
    "model = AutoModelForCausalLM.from_pretrained(r\"C:\\Users\\ilyam\\Desktop\\schoolDS_progect\\RedPajama-INCITE-Chat-3B-v1\", torch_dtype=torch.bfloat16)"
   ]
  },
  {
   "cell_type": "code",
   "execution_count": 123,
   "id": "a9538eb0-a44f-4480-89c0-99fe4fd2ae98",
   "metadata": {},
   "outputs": [],
   "source": [
    "text = \"01010110\""
   ]
  },
  {
   "cell_type": "code",
   "execution_count": 124,
   "id": "52089f94-bff7-4cc3-b242-9ff9d8d2cb04",
   "metadata": {},
   "outputs": [],
   "source": [
    "model = model.to(device)\n",
    "prompt = f\"<human>: {text}\\n<bot>:\"\n",
    "inputs = tokenizer(text, return_tensors=\"pt\").to(device)"
   ]
  },
  {
   "cell_type": "code",
   "execution_count": 125,
   "id": "c3b769f6-dfad-4478-8587-d7f8b6bef023",
   "metadata": {},
   "outputs": [
    {
     "name": "stdout",
     "output_type": "stream",
     "text": [
      "tensor([[26764,   520,   740]], device='cuda:0')\n"
     ]
    }
   ],
   "source": [
    "input_length = inputs.input_ids.shape[1]\n",
    "print(inputs.input_ids)"
   ]
  },
  {
   "cell_type": "code",
   "execution_count": 126,
   "id": "fa1b79eb-42fb-4250-82f1-d3cf4aac03a9",
   "metadata": {},
   "outputs": [
    {
     "name": "stderr",
     "output_type": "stream",
     "text": [
      "Setting `pad_token_id` to `eos_token_id`:None for open-end generation.\n"
     ]
    }
   ],
   "source": [
    "outputs = model.generate(**inputs, max_new_tokens=100 ,  temperature=0.9, return_dict_in_generate=True,  do_sample=True)"
   ]
  },
  {
   "cell_type": "code",
   "execution_count": 127,
   "id": "ef872c4d-03af-4d5f-899e-65128eaa392c",
   "metadata": {},
   "outputs": [],
   "source": [
    "tokens = outputs.sequences[0, :]#input_length:]"
   ]
  },
  {
   "cell_type": "code",
   "execution_count": 128,
   "id": "d0c79e50-6ea9-45c5-839e-517cd85117e9",
   "metadata": {},
   "outputs": [
    {
     "name": "stdout",
     "output_type": "stream",
     "text": [
      "01010110_\n",
      "\n",
      "```\n",
      "<human>: List the names of all of the characters in the series A Song of Ice and Fire and provide the order in which the books are released.\n",
      "\n",
      "\n",
      "\"A Song of Ice and Fire\" is a series of epic fantasy novels by American author George R.R. Martin, first published in 1996. The series is the brainchild of George R.R. Martin (see Themes), who conceived of its overall plot, characters, themes, and structure while\n"
     ]
    }
   ],
   "source": [
    "print(tokenizer.decode(tokens))"
   ]
  },
  {
   "cell_type": "markdown",
   "id": "c6c9ce65-9a4a-437c-902e-b8b1e369085c",
   "metadata": {},
   "source": [
    "# Llama-3.2-3B"
   ]
  },
  {
   "cell_type": "code",
   "execution_count": 1,
   "id": "05950ec6-4789-40f7-a285-5f328a919177",
   "metadata": {},
   "outputs": [
    {
     "name": "stderr",
     "output_type": "stream",
     "text": [
      "C:\\Users\\ilyam\\Desktop\\schoolDS_progect\\gradio_env\\Lib\\site-packages\\tqdm\\auto.py:21: TqdmWarning: IProgress not found. Please update jupyter and ipywidgets. See https://ipywidgets.readthedocs.io/en/stable/user_install.html\n",
      "  from .autonotebook import tqdm as notebook_tqdm\n"
     ]
    }
   ],
   "source": [
    "import torch\n",
    "from transformers import pipeline\n",
    "\n",
    "model_id = r\"C:\\Users\\ilyam\\Desktop\\schoolDS_progect\\Llama-3.2-3B-Instruct\"\n"
   ]
  },
  {
   "cell_type": "code",
   "execution_count": 4,
   "id": "cd0566c5-4b89-4848-ac8c-eabc4d9060ea",
   "metadata": {},
   "outputs": [],
   "source": [
    "pipe = pipeline(\n",
    "    \"text-generation\",\n",
    "    model=model_id,\n",
    "    torch_dtype=torch.bfloat16,\n",
    "    device = device, \n",
    ")\n"
   ]
  },
  {
   "cell_type": "code",
   "execution_count": 5,
   "id": "3d3df5f4-f0e1-462e-8268-01d5ab511be7",
   "metadata": {},
   "outputs": [
    {
     "name": "stderr",
     "output_type": "stream",
     "text": [
      "C:\\Users\\ilyam\\Desktop\\schoolDS_progect\\gradio_env\\Lib\\site-packages\\transformers\\models\\llama\\modeling_llama.py:655: UserWarning: 1Torch was not compiled with flash attention. (Triggered internally at C:\\actions-runner\\_work\\pytorch\\pytorch\\builder\\windows\\pytorch\\aten\\src\\ATen\\native\\transformers\\cuda\\sdp_utils.cpp:555.)\n",
      "  attn_output = torch.nn.functional.scaled_dot_product_attention(\n",
      "Starting from v4.46, the `logits` model output will have the same type as the model (except at train time, where it will always be FP32)\n"
     ]
    },
    {
     "name": "stdout",
     "output_type": "stream",
     "text": [
      "{'role': 'assistant', 'content': 'Зебры - это животные, принадлежащие к семейству Hippopotamidae. Они являются одним из наиболее известных и увлекательных животных, известных своей уникальной морфологией и поведением.\\n\\nЗебры обитают в Африке и являются одним из наиболее распространенных животных на континенте. Они встречаются в различных типах водоемов, включая реки, озера и пруды.\\n\\nХарактеристика зебры:\\n\\n* Зебры являются крупными животными, размерами от 2 до 3 метров в длину и 1,5 до 2 метра в высоту.\\n* Их тело покрыто шерстью, которая может быть желтой, черной или со смешанными цветами.\\n* Зебры имеют уникальные беговые пятна на их спине, которые могут быть различными цветами и формами.\\n* У зебры есть मजबенные ноги и сильные ноги, которые позволяют им бегать на скорости до 30 км/ч.\\n* Зебры являются хищниками и едят различные виды рыб'}\n"
     ]
    }
   ],
   "source": [
    "messages = [\n",
    "    {\"role\": \"system\", \"content\": \"Ты чатбот помогающий отвечать на вопросы.\"},\n",
    "    {\"role\": \"user\", \"content\": \"Кто такие зебры?\"},\n",
    "]\n",
    "outputs = pipe(\n",
    "    messages,\n",
    "    max_new_tokens=256,\n",
    ")\n",
    "print(outputs[0][\"generated_text\"][-1])"
   ]
  },
  {
   "cell_type": "code",
   "execution_count": 8,
   "id": "cc72e5fc-5eb2-4642-ad4e-fe6e3f9b98df",
   "metadata": {},
   "outputs": [
    {
     "data": {
      "text/plain": [
       "'Зебры - это животные, принадлежащие к семейству Hippopotamidae. Они являются одним из наиболее известных и увлекательных животных, известных своей уникальной морфологией и поведением.\\n\\nЗебры обитают в Африке и являются одним из наиболее распространенных животных на континенте. Они встречаются в различных типах водоемов, включая реки, озера и пруды.\\n\\nХарактеристика зебры:\\n\\n* Зебры являются крупными животными, размерами от 2 до 3 метров в длину и 1,5 до 2 метра в высоту.\\n* Их тело покрыто шерстью, которая может быть желтой, черной или со смешанными цветами.\\n* Зебры имеют уникальные беговые пятна на их спине, которые могут быть различными цветами и формами.\\n* У зебры есть मजबенные ноги и сильные ноги, которые позволяют им бегать на скорости до 30 км/ч.\\n* Зебры являются хищниками и едят различные виды рыб'"
      ]
     },
     "execution_count": 8,
     "metadata": {},
     "output_type": "execute_result"
    }
   ],
   "source": [
    "outputs[0][\"generated_text\"][-1][\"content\"]"
   ]
  },
  {
   "cell_type": "code",
   "execution_count": null,
   "id": "d9fafb4a-842b-49d3-9633-446763f4982f",
   "metadata": {},
   "outputs": [],
   "source": []
  },
  {
   "cell_type": "markdown",
   "id": "899e9904-96bf-4dea-8f88-e8bf6c0decc2",
   "metadata": {},
   "source": [
    "# Encode texts"
   ]
  },
  {
   "cell_type": "code",
   "execution_count": 20,
   "id": "91c44e69-b7a5-422c-a752-4abaf02d082d",
   "metadata": {},
   "outputs": [],
   "source": [
    "import pandas as pd\n",
    "import numpy as np"
   ]
  },
  {
   "cell_type": "code",
   "execution_count": 2,
   "id": "63ef3429-522c-4013-8772-2299bc33a159",
   "metadata": {},
   "outputs": [],
   "source": [
    "df = pd.read_excel(\"База знаний.xlsx\", )"
   ]
  },
  {
   "cell_type": "code",
   "execution_count": 72,
   "id": "e87593f7-78cf-4da3-a379-9bf1ded3e667",
   "metadata": {},
   "outputs": [
    {
     "data": {
      "text/plain": [
       "0     Process Mining - это методология анализа бизне...\n",
       "1     Событие - это запись о каком-либо действии или...\n",
       "2     Лог событий - это структурированный набор данн...\n",
       "3     Модель процесса - это абстрактное представлени...\n",
       "4     Наблюдаемый процесс - это фактическая последов...\n",
       "5     Модель соответствия - это метод, который сравн...\n",
       "6     Анализ причин - это подход, позволяющий исслед...\n",
       "7     Проблемы, выявляемые с помощью Process Mining:...\n",
       "8     Заключение - Process Mining представляет собой...\n",
       "9     Process Discovery - это этап в Process Mining,...\n",
       "10    Конформационный анализ (Conformance Checking) ...\n",
       "11    Улучшение процесса (Process Enhancement) - это...\n",
       "12    Фреймворк для Process Mining - набор инструмен...\n",
       "13    Соответствие (Fit) и Избыточность (Overfitting...\n",
       "14    Динамика процессов (Process Dynamics) - изучен...\n",
       "15    Моделирование потоков (Flow Modeling) - способ...\n",
       "16    Анализ отклонений (Deviation Analysis) - детал...\n",
       "17    Оценка производительности (Performance Evaluat...\n",
       "18    Выявление рисков (Risk Detection) - использова...\n",
       "19    Анализ ссылок (Link Analysis) - исследование в...\n",
       "20    Управление изменениями (Change Management) - п...\n",
       "21    Качество данных (Data Quality) - всесторонняя ...\n",
       "22    Анализ временных задержек (Delay Analysis) - и...\n",
       "23    Оценка удовлетворенности клиента (Customer Sat...\n",
       "24    Интеграция с другими системами (System Integra...\n",
       "25    Разработка рекомендаций (Recommendation System...\n",
       "26    Кросс-функциональный анализ (Cross-Functional ...\n",
       "27    Кейс-стадии (Case Studies) - примеры успешного...\n",
       "28    Знания о шаблонах (Pattern Knowledge) - выявле...\n",
       "Name: example, dtype: object"
      ]
     },
     "execution_count": 72,
     "metadata": {},
     "output_type": "execute_result"
    }
   ],
   "source": [
    "df[\"example\"]"
   ]
  },
  {
   "cell_type": "code",
   "execution_count": 141,
   "id": "b89ed0ad-f50e-49b0-b9c9-8df521bbc0d8",
   "metadata": {},
   "outputs": [],
   "source": [
    "from sentence_transformers import SentenceTransformer, util"
   ]
  },
  {
   "cell_type": "code",
   "execution_count": 151,
   "id": "a41eb9db-4d4f-4217-b509-193117c05ed8",
   "metadata": {},
   "outputs": [
    {
     "name": "stderr",
     "output_type": "stream",
     "text": [
      "No sentence-transformers model found with name DeepPavlov/rubert-base-cased. Creating a new one with mean pooling.\n",
      "C:\\Users\\ilyam\\Desktop\\schoolDS_progect\\gradio_env\\Lib\\site-packages\\huggingface_hub\\file_download.py:147: UserWarning: `huggingface_hub` cache-system uses symlinks by default to efficiently store duplicated files but your machine does not support them in C:\\Users\\ilyam\\.cache\\huggingface\\hub\\models--DeepPavlov--rubert-base-cased. Caching files will still work but in a degraded version that might require more space on your disk. This warning can be disabled by setting the `HF_HUB_DISABLE_SYMLINKS_WARNING` environment variable. For more details, see https://huggingface.co/docs/huggingface_hub/how-to-cache#limitations.\n",
      "To support symlinks on Windows, you either need to activate Developer Mode or to run Python as an administrator. In order to activate developer mode, see this article: https://docs.microsoft.com/en-us/windows/apps/get-started/enable-your-device-for-development\n",
      "  warnings.warn(message)\n",
      "Some weights of the model checkpoint at DeepPavlov/rubert-base-cased were not used when initializing BertModel: ['cls.predictions.bias', 'cls.predictions.decoder.bias', 'cls.predictions.decoder.weight', 'cls.predictions.transform.LayerNorm.bias', 'cls.predictions.transform.LayerNorm.weight', 'cls.predictions.transform.dense.bias', 'cls.predictions.transform.dense.weight', 'cls.seq_relationship.bias', 'cls.seq_relationship.weight']\n",
      "- This IS expected if you are initializing BertModel from the checkpoint of a model trained on another task or with another architecture (e.g. initializing a BertForSequenceClassification model from a BertForPreTraining model).\n",
      "- This IS NOT expected if you are initializing BertModel from the checkpoint of a model that you expect to be exactly identical (initializing a BertForSequenceClassification model from a BertForSequenceClassification model).\n"
     ]
    }
   ],
   "source": [
    "model = SentenceTransformer(r\"DeepPavlov/rubert-base-cased\", device=\"cuda\")"
   ]
  },
  {
   "cell_type": "code",
   "execution_count": 152,
   "id": "de0635ad-09a8-4dd1-b202-47c3e8678199",
   "metadata": {},
   "outputs": [
    {
     "data": {
      "text/plain": [
       "SentenceTransformerModelCardData(language=[], license=None, model_name=None, model_id=None, train_datasets=[], eval_datasets=[], task_name='semantic textual similarity, semantic search, paraphrase mining, text classification, clustering, and more', tags=['sentence-transformers', 'sentence-similarity', 'feature-extraction'], generate_widget_examples='deprecated', base_model='DeepPavlov/rubert-base-cased', base_model_revision='4036cab694767a299f2b9e6492909664d9414229', non_default_hyperparameters={}, all_hyperparameters={}, eval_results_dict={}, training_logs=[], widget=[], predict_example=None, label_example_list=[], code_carbon_callback=None, citations={}, best_model_step=None, first_save=True, widget_step=-1, pipeline_tag='sentence-similarity', library_name='sentence-transformers', version={'python': '3.12.2', 'sentence_transformers': '3.2.1', 'transformers': '4.45.2', 'torch': '2.4.1+cu118', 'accelerate': '1.0.1', 'datasets': '3.1.0', 'tokenizers': '0.20.1'})"
      ]
     },
     "execution_count": 152,
     "metadata": {},
     "output_type": "execute_result"
    }
   ],
   "source": [
    "model.model_card_data"
   ]
  },
  {
   "cell_type": "code",
   "execution_count": 153,
   "id": "a4ddf2ed-796b-496f-a416-b630bf96d686",
   "metadata": {},
   "outputs": [],
   "source": [
    "embs = df.example.apply(model.encode)"
   ]
  },
  {
   "cell_type": "code",
   "execution_count": 154,
   "id": "a1f10cc4-d4f6-4dce-8a44-b69eef60a96d",
   "metadata": {},
   "outputs": [],
   "source": [
    "np.save(\"base knowledge embs.npy\", embs.values)"
   ]
  },
  {
   "cell_type": "code",
   "execution_count": 155,
   "id": "441f3428-f216-475c-9bd5-991623b260ec",
   "metadata": {},
   "outputs": [],
   "source": [
    "database_emb = np.vstack(np.load(\"base knowledge embs.npy\", allow_pickle=True)).astype(np.float32)"
   ]
  },
  {
   "cell_type": "code",
   "execution_count": 156,
   "id": "1ca16ef1-99ad-45ee-8ed7-7ec78baee182",
   "metadata": {},
   "outputs": [],
   "source": [
    "import torch"
   ]
  },
  {
   "cell_type": "code",
   "execution_count": 157,
   "id": "440dfb37-8313-413b-ae3a-4ff58f7b68e5",
   "metadata": {},
   "outputs": [],
   "source": [
    "def get_similarity(query: str, model: SentenceTransformer, database_emb, base_texts):\n",
    "\n",
    "    query_emb = model.encode(query, convert_to_tensor=True, device=\"cuda\")\n",
    "\n",
    "    database_emb = torch.from_numpy(database_emb).to(\"cuda\")\n",
    "\n",
    "    similaritires = util.pytorch_cos_sim(query_emb, database_emb)\n",
    "\n",
    "    reults = pd.DataFrame(base_texts.values, columns=[\"texts\"])\n",
    "\n",
    "    reults[\"cos_sim\"] = similaritires.cpu().reshape(-1,1)\n",
    "\n",
    "    return reults"
   ]
  },
  {
   "cell_type": "code",
   "execution_count": 168,
   "id": "95f95992-c1bd-4524-9f38-c531cf07b423",
   "metadata": {},
   "outputs": [],
   "source": [
    "result = get_similarity(\"Какие проблемы можно найти с помощью Process Mining\", model, database_emb, df.example).sort_values(by=\"cos_sim\", ascending=False)"
   ]
  },
  {
   "cell_type": "code",
   "execution_count": 169,
   "id": "3fac5da2-b230-4865-84c5-c41cca4a4855",
   "metadata": {},
   "outputs": [
    {
     "data": {
      "text/html": [
       "<div>\n",
       "<style scoped>\n",
       "    .dataframe tbody tr th:only-of-type {\n",
       "        vertical-align: middle;\n",
       "    }\n",
       "\n",
       "    .dataframe tbody tr th {\n",
       "        vertical-align: top;\n",
       "    }\n",
       "\n",
       "    .dataframe thead th {\n",
       "        text-align: right;\n",
       "    }\n",
       "</style>\n",
       "<table border=\"1\" class=\"dataframe\">\n",
       "  <thead>\n",
       "    <tr style=\"text-align: right;\">\n",
       "      <th></th>\n",
       "      <th>texts</th>\n",
       "      <th>cos_sim</th>\n",
       "    </tr>\n",
       "  </thead>\n",
       "  <tbody>\n",
       "    <tr>\n",
       "      <th>22</th>\n",
       "      <td>Анализ временных задержек (Delay Analysis) - и...</td>\n",
       "      <td>0.540384</td>\n",
       "    </tr>\n",
       "    <tr>\n",
       "      <th>27</th>\n",
       "      <td>Кейс-стадии (Case Studies) - примеры успешного...</td>\n",
       "      <td>0.521072</td>\n",
       "    </tr>\n",
       "    <tr>\n",
       "      <th>19</th>\n",
       "      <td>Анализ ссылок (Link Analysis) - исследование в...</td>\n",
       "      <td>0.517434</td>\n",
       "    </tr>\n",
       "    <tr>\n",
       "      <th>11</th>\n",
       "      <td>Улучшение процесса (Process Enhancement) - это...</td>\n",
       "      <td>0.516828</td>\n",
       "    </tr>\n",
       "    <tr>\n",
       "      <th>12</th>\n",
       "      <td>Фреймворк для Process Mining - набор инструмен...</td>\n",
       "      <td>0.510642</td>\n",
       "    </tr>\n",
       "    <tr>\n",
       "      <th>26</th>\n",
       "      <td>Кросс-функциональный анализ (Cross-Functional ...</td>\n",
       "      <td>0.493593</td>\n",
       "    </tr>\n",
       "    <tr>\n",
       "      <th>13</th>\n",
       "      <td>Соответствие (Fit) и Избыточность (Overfitting...</td>\n",
       "      <td>0.485437</td>\n",
       "    </tr>\n",
       "    <tr>\n",
       "      <th>8</th>\n",
       "      <td>Заключение - Process Mining представляет собой...</td>\n",
       "      <td>0.484817</td>\n",
       "    </tr>\n",
       "    <tr>\n",
       "      <th>3</th>\n",
       "      <td>Модель процесса - это абстрактное представлени...</td>\n",
       "      <td>0.484173</td>\n",
       "    </tr>\n",
       "    <tr>\n",
       "      <th>25</th>\n",
       "      <td>Разработка рекомендаций (Recommendation System...</td>\n",
       "      <td>0.478887</td>\n",
       "    </tr>\n",
       "    <tr>\n",
       "      <th>10</th>\n",
       "      <td>Конформационный анализ (Conformance Checking) ...</td>\n",
       "      <td>0.477376</td>\n",
       "    </tr>\n",
       "    <tr>\n",
       "      <th>2</th>\n",
       "      <td>Лог событий - это структурированный набор данн...</td>\n",
       "      <td>0.476826</td>\n",
       "    </tr>\n",
       "    <tr>\n",
       "      <th>24</th>\n",
       "      <td>Интеграция с другими системами (System Integra...</td>\n",
       "      <td>0.466796</td>\n",
       "    </tr>\n",
       "    <tr>\n",
       "      <th>28</th>\n",
       "      <td>Знания о шаблонах (Pattern Knowledge) - выявле...</td>\n",
       "      <td>0.460995</td>\n",
       "    </tr>\n",
       "    <tr>\n",
       "      <th>16</th>\n",
       "      <td>Анализ отклонений (Deviation Analysis) - детал...</td>\n",
       "      <td>0.460869</td>\n",
       "    </tr>\n",
       "    <tr>\n",
       "      <th>9</th>\n",
       "      <td>Process Discovery - это этап в Process Mining,...</td>\n",
       "      <td>0.447876</td>\n",
       "    </tr>\n",
       "    <tr>\n",
       "      <th>18</th>\n",
       "      <td>Выявление рисков (Risk Detection) - использова...</td>\n",
       "      <td>0.446889</td>\n",
       "    </tr>\n",
       "    <tr>\n",
       "      <th>21</th>\n",
       "      <td>Качество данных (Data Quality) - всесторонняя ...</td>\n",
       "      <td>0.446657</td>\n",
       "    </tr>\n",
       "    <tr>\n",
       "      <th>17</th>\n",
       "      <td>Оценка производительности (Performance Evaluat...</td>\n",
       "      <td>0.445060</td>\n",
       "    </tr>\n",
       "    <tr>\n",
       "      <th>14</th>\n",
       "      <td>Динамика процессов (Process Dynamics) - изучен...</td>\n",
       "      <td>0.444485</td>\n",
       "    </tr>\n",
       "    <tr>\n",
       "      <th>5</th>\n",
       "      <td>Модель соответствия - это метод, который сравн...</td>\n",
       "      <td>0.434565</td>\n",
       "    </tr>\n",
       "    <tr>\n",
       "      <th>0</th>\n",
       "      <td>Process Mining - это методология анализа бизне...</td>\n",
       "      <td>0.429665</td>\n",
       "    </tr>\n",
       "    <tr>\n",
       "      <th>7</th>\n",
       "      <td>Проблемы, выявляемые с помощью Process Mining:...</td>\n",
       "      <td>0.419776</td>\n",
       "    </tr>\n",
       "    <tr>\n",
       "      <th>15</th>\n",
       "      <td>Моделирование потоков (Flow Modeling) - способ...</td>\n",
       "      <td>0.413670</td>\n",
       "    </tr>\n",
       "    <tr>\n",
       "      <th>23</th>\n",
       "      <td>Оценка удовлетворенности клиента (Customer Sat...</td>\n",
       "      <td>0.387819</td>\n",
       "    </tr>\n",
       "    <tr>\n",
       "      <th>20</th>\n",
       "      <td>Управление изменениями (Change Management) - п...</td>\n",
       "      <td>0.384402</td>\n",
       "    </tr>\n",
       "    <tr>\n",
       "      <th>6</th>\n",
       "      <td>Анализ причин - это подход, позволяющий исслед...</td>\n",
       "      <td>0.349331</td>\n",
       "    </tr>\n",
       "    <tr>\n",
       "      <th>4</th>\n",
       "      <td>Наблюдаемый процесс - это фактическая последов...</td>\n",
       "      <td>0.291649</td>\n",
       "    </tr>\n",
       "    <tr>\n",
       "      <th>1</th>\n",
       "      <td>Событие - это запись о каком-либо действии или...</td>\n",
       "      <td>0.273782</td>\n",
       "    </tr>\n",
       "  </tbody>\n",
       "</table>\n",
       "</div>"
      ],
      "text/plain": [
       "                                                texts   cos_sim\n",
       "22  Анализ временных задержек (Delay Analysis) - и...  0.540384\n",
       "27  Кейс-стадии (Case Studies) - примеры успешного...  0.521072\n",
       "19  Анализ ссылок (Link Analysis) - исследование в...  0.517434\n",
       "11  Улучшение процесса (Process Enhancement) - это...  0.516828\n",
       "12  Фреймворк для Process Mining - набор инструмен...  0.510642\n",
       "26  Кросс-функциональный анализ (Cross-Functional ...  0.493593\n",
       "13  Соответствие (Fit) и Избыточность (Overfitting...  0.485437\n",
       "8   Заключение - Process Mining представляет собой...  0.484817\n",
       "3   Модель процесса - это абстрактное представлени...  0.484173\n",
       "25  Разработка рекомендаций (Recommendation System...  0.478887\n",
       "10  Конформационный анализ (Conformance Checking) ...  0.477376\n",
       "2   Лог событий - это структурированный набор данн...  0.476826\n",
       "24  Интеграция с другими системами (System Integra...  0.466796\n",
       "28  Знания о шаблонах (Pattern Knowledge) - выявле...  0.460995\n",
       "16  Анализ отклонений (Deviation Analysis) - детал...  0.460869\n",
       "9   Process Discovery - это этап в Process Mining,...  0.447876\n",
       "18  Выявление рисков (Risk Detection) - использова...  0.446889\n",
       "21  Качество данных (Data Quality) - всесторонняя ...  0.446657\n",
       "17  Оценка производительности (Performance Evaluat...  0.445060\n",
       "14  Динамика процессов (Process Dynamics) - изучен...  0.444485\n",
       "5   Модель соответствия - это метод, который сравн...  0.434565\n",
       "0   Process Mining - это методология анализа бизне...  0.429665\n",
       "7   Проблемы, выявляемые с помощью Process Mining:...  0.419776\n",
       "15  Моделирование потоков (Flow Modeling) - способ...  0.413670\n",
       "23  Оценка удовлетворенности клиента (Customer Sat...  0.387819\n",
       "20  Управление изменениями (Change Management) - п...  0.384402\n",
       "6   Анализ причин - это подход, позволяющий исслед...  0.349331\n",
       "4   Наблюдаемый процесс - это фактическая последов...  0.291649\n",
       "1   Событие - это запись о каком-либо действии или...  0.273782"
      ]
     },
     "execution_count": 169,
     "metadata": {},
     "output_type": "execute_result"
    }
   ],
   "source": [
    "result"
   ]
  },
  {
   "cell_type": "code",
   "execution_count": null,
   "id": "ab686531-05fc-41ad-86ff-aaa9fa2a6e41",
   "metadata": {},
   "outputs": [],
   "source": []
  },
  {
   "cell_type": "code",
   "execution_count": null,
   "id": "95a09db7-df99-469a-aad1-d09d76f302ad",
   "metadata": {},
   "outputs": [],
   "source": []
  }
 ],
 "metadata": {
  "kernelspec": {
   "display_name": "gradio",
   "language": "python",
   "name": "gradio"
  },
  "language_info": {
   "codemirror_mode": {
    "name": "ipython",
    "version": 3
   },
   "file_extension": ".py",
   "mimetype": "text/x-python",
   "name": "python",
   "nbconvert_exporter": "python",
   "pygments_lexer": "ipython3",
   "version": "3.12.2"
  }
 },
 "nbformat": 4,
 "nbformat_minor": 5
}
