{
 "cells": [
  {
   "cell_type": "code",
   "execution_count": 3,
   "id": "435159e4-22a5-4355-a98f-ad8380fab0c0",
   "metadata": {},
   "outputs": [
    {
     "name": "stdout",
     "output_type": "stream",
     "text": [
      "cuda\n"
     ]
    }
   ],
   "source": [
    "import torch\n",
    "from transformers import AutoTokenizer, AutoModelForCausalLM\n",
    " \n",
    "if torch.cuda.is_available():\n",
    "    device = torch.device('cuda')\n",
    "else:\n",
    "    device = torch.device('cpu')\n",
    "\n",
    "print(device)"
   ]
  },
  {
   "cell_type": "code",
   "execution_count": 2,
   "id": "2a0f172d-c2df-43c7-9e79-b38632c35fa2",
   "metadata": {},
   "outputs": [],
   "source": [
    "tokenizer = AutoTokenizer.from_pretrained(r\"C:\\Users\\ilyam\\Desktop\\schoolDS_progect\\RedPajama-INCITE-Chat-3B-v1\")\n",
    "model = AutoModelForCausalLM.from_pretrained(r\"C:\\Users\\ilyam\\Desktop\\schoolDS_progect\\RedPajama-INCITE-Chat-3B-v1\", torch_dtype=torch.bfloat16)"
   ]
  },
  {
   "cell_type": "code",
   "execution_count": 123,
   "id": "a9538eb0-a44f-4480-89c0-99fe4fd2ae98",
   "metadata": {},
   "outputs": [],
   "source": [
    "text = \"01010110\""
   ]
  },
  {
   "cell_type": "code",
   "execution_count": 124,
   "id": "52089f94-bff7-4cc3-b242-9ff9d8d2cb04",
   "metadata": {},
   "outputs": [],
   "source": [
    "model = model.to(device)\n",
    "prompt = f\"<human>: {text}\\n<bot>:\"\n",
    "inputs = tokenizer(text, return_tensors=\"pt\").to(device)"
   ]
  },
  {
   "cell_type": "code",
   "execution_count": 125,
   "id": "c3b769f6-dfad-4478-8587-d7f8b6bef023",
   "metadata": {},
   "outputs": [
    {
     "name": "stdout",
     "output_type": "stream",
     "text": [
      "tensor([[26764,   520,   740]], device='cuda:0')\n"
     ]
    }
   ],
   "source": [
    "input_length = inputs.input_ids.shape[1]\n",
    "print(inputs.input_ids)"
   ]
  },
  {
   "cell_type": "code",
   "execution_count": 126,
   "id": "fa1b79eb-42fb-4250-82f1-d3cf4aac03a9",
   "metadata": {},
   "outputs": [
    {
     "name": "stderr",
     "output_type": "stream",
     "text": [
      "Setting `pad_token_id` to `eos_token_id`:None for open-end generation.\n"
     ]
    }
   ],
   "source": [
    "outputs = model.generate(**inputs, max_new_tokens=100 ,  temperature=0.9, return_dict_in_generate=True,  do_sample=True)"
   ]
  },
  {
   "cell_type": "code",
   "execution_count": 127,
   "id": "ef872c4d-03af-4d5f-899e-65128eaa392c",
   "metadata": {},
   "outputs": [],
   "source": [
    "tokens = outputs.sequences[0, :]#input_length:]"
   ]
  },
  {
   "cell_type": "code",
   "execution_count": 128,
   "id": "d0c79e50-6ea9-45c5-839e-517cd85117e9",
   "metadata": {},
   "outputs": [
    {
     "name": "stdout",
     "output_type": "stream",
     "text": [
      "01010110_\n",
      "\n",
      "```\n",
      "<human>: List the names of all of the characters in the series A Song of Ice and Fire and provide the order in which the books are released.\n",
      "\n",
      "\n",
      "\"A Song of Ice and Fire\" is a series of epic fantasy novels by American author George R.R. Martin, first published in 1996. The series is the brainchild of George R.R. Martin (see Themes), who conceived of its overall plot, characters, themes, and structure while\n"
     ]
    }
   ],
   "source": [
    "print(tokenizer.decode(tokens))"
   ]
  },
  {
   "cell_type": "markdown",
   "id": "c6c9ce65-9a4a-437c-902e-b8b1e369085c",
   "metadata": {},
   "source": [
    "# Llama-3.2-3B"
   ]
  },
  {
   "cell_type": "code",
   "execution_count": 1,
   "id": "05950ec6-4789-40f7-a285-5f328a919177",
   "metadata": {},
   "outputs": [
    {
     "name": "stderr",
     "output_type": "stream",
     "text": [
      "C:\\Users\\ilyam\\Desktop\\schoolDS_progect\\gradio_env\\Lib\\site-packages\\tqdm\\auto.py:21: TqdmWarning: IProgress not found. Please update jupyter and ipywidgets. See https://ipywidgets.readthedocs.io/en/stable/user_install.html\n",
      "  from .autonotebook import tqdm as notebook_tqdm\n"
     ]
    }
   ],
   "source": [
    "import torch\n",
    "from transformers import pipeline\n",
    "\n",
    "model_id = r\"C:\\Users\\ilyam\\Desktop\\schoolDS_progect\\Llama-3.2-3B-Instruct\"\n"
   ]
  },
  {
   "cell_type": "code",
   "execution_count": 4,
   "id": "cd0566c5-4b89-4848-ac8c-eabc4d9060ea",
   "metadata": {},
   "outputs": [],
   "source": [
    "pipe = pipeline(\n",
    "    \"text-generation\",\n",
    "    model=model_id,\n",
    "    torch_dtype=torch.bfloat16,\n",
    "    device = device, \n",
    ")\n"
   ]
  },
  {
   "cell_type": "code",
   "execution_count": 5,
   "id": "3d3df5f4-f0e1-462e-8268-01d5ab511be7",
   "metadata": {},
   "outputs": [
    {
     "name": "stderr",
     "output_type": "stream",
     "text": [
      "C:\\Users\\ilyam\\Desktop\\schoolDS_progect\\gradio_env\\Lib\\site-packages\\transformers\\models\\llama\\modeling_llama.py:655: UserWarning: 1Torch was not compiled with flash attention. (Triggered internally at C:\\actions-runner\\_work\\pytorch\\pytorch\\builder\\windows\\pytorch\\aten\\src\\ATen\\native\\transformers\\cuda\\sdp_utils.cpp:555.)\n",
      "  attn_output = torch.nn.functional.scaled_dot_product_attention(\n",
      "Starting from v4.46, the `logits` model output will have the same type as the model (except at train time, where it will always be FP32)\n"
     ]
    },
    {
     "name": "stdout",
     "output_type": "stream",
     "text": [
      "{'role': 'assistant', 'content': 'Зебры - это животные, принадлежащие к семейству Hippopotamidae. Они являются одним из наиболее известных и увлекательных животных, известных своей уникальной морфологией и поведением.\\n\\nЗебры обитают в Африке и являются одним из наиболее распространенных животных на континенте. Они встречаются в различных типах водоемов, включая реки, озера и пруды.\\n\\nХарактеристика зебры:\\n\\n* Зебры являются крупными животными, размерами от 2 до 3 метров в длину и 1,5 до 2 метра в высоту.\\n* Их тело покрыто шерстью, которая может быть желтой, черной или со смешанными цветами.\\n* Зебры имеют уникальные беговые пятна на их спине, которые могут быть различными цветами и формами.\\n* У зебры есть मजबенные ноги и сильные ноги, которые позволяют им бегать на скорости до 30 км/ч.\\n* Зебры являются хищниками и едят различные виды рыб'}\n"
     ]
    }
   ],
   "source": [
    "messages = [\n",
    "    {\"role\": \"system\", \"content\": \"Ты чатбот помогающий отвечать на вопросы.\"},\n",
    "    {\"role\": \"user\", \"content\": \"Кто такие зебры?\"},\n",
    "]\n",
    "outputs = pipe(\n",
    "    messages,\n",
    "    max_new_tokens=256,\n",
    ")\n",
    "print(outputs[0][\"generated_text\"][-1])"
   ]
  },
  {
   "cell_type": "code",
   "execution_count": 8,
   "id": "cc72e5fc-5eb2-4642-ad4e-fe6e3f9b98df",
   "metadata": {},
   "outputs": [
    {
     "data": {
      "text/plain": [
       "'Зебры - это животные, принадлежащие к семейству Hippopotamidae. Они являются одним из наиболее известных и увлекательных животных, известных своей уникальной морфологией и поведением.\\n\\nЗебры обитают в Африке и являются одним из наиболее распространенных животных на континенте. Они встречаются в различных типах водоемов, включая реки, озера и пруды.\\n\\nХарактеристика зебры:\\n\\n* Зебры являются крупными животными, размерами от 2 до 3 метров в длину и 1,5 до 2 метра в высоту.\\n* Их тело покрыто шерстью, которая может быть желтой, черной или со смешанными цветами.\\n* Зебры имеют уникальные беговые пятна на их спине, которые могут быть различными цветами и формами.\\n* У зебры есть मजबенные ноги и сильные ноги, которые позволяют им бегать на скорости до 30 км/ч.\\n* Зебры являются хищниками и едят различные виды рыб'"
      ]
     },
     "execution_count": 8,
     "metadata": {},
     "output_type": "execute_result"
    }
   ],
   "source": [
    "outputs[0][\"generated_text\"][-1][\"content\"]"
   ]
  },
  {
   "cell_type": "code",
   "execution_count": null,
   "id": "d9fafb4a-842b-49d3-9633-446763f4982f",
   "metadata": {},
   "outputs": [],
   "source": []
  },
  {
   "cell_type": "markdown",
   "id": "899e9904-96bf-4dea-8f88-e8bf6c0decc2",
   "metadata": {},
   "source": [
    "# Жанры книг"
   ]
  },
  {
   "cell_type": "code",
   "execution_count": 2,
   "id": "91c44e69-b7a5-422c-a752-4abaf02d082d",
   "metadata": {},
   "outputs": [],
   "source": [
    "import pandas as pd"
   ]
  },
  {
   "cell_type": "code",
   "execution_count": 3,
   "id": "01d8714d-228e-4361-99de-83e4e834ee13",
   "metadata": {},
   "outputs": [],
   "source": [
    "df = pd.read_csv(\"books_and_genres.csv\")"
   ]
  },
  {
   "cell_type": "code",
   "execution_count": 11,
   "id": "b89ed0ad-f50e-49b0-b9c9-8df521bbc0d8",
   "metadata": {},
   "outputs": [
    {
     "data": {
      "text/plain": [
       "'Produced by Ted Garvin, Ben Courtney and PG Distributed Proofreaders\\n\\n\\n\\n\\n                       SENECA\\n\\n                  APOCOLOCYNTOSIS\\n\\n          WITH AN ENGLISH TRANSLATION BY\\n\\n            W.H.D. ROUSE, M.A. LITT. D.\\n\\n                       MCMXX\\n\\n\\n\\n\\n\\nINTRODUCTION\\n\\nThis piece is ascribed to Seneca by ancient tradition; it is impossible\\nto prove that it is his, and impossible to prove that it is not. The\\nmatter will probably continue to be decided by every one according to his\\nview of Seneca\\'s character and abilities: in the matters of style and of\\nsentiment much may be said on both sides. Dion Cassius (lx, 35) says that\\nSeneca composed an [Greek: apokolokuntosis] or Pumpkinification of\\nClaudius after his death, the title being a parody of the usual\\n[Greek: apotheosis]; but this title is not given in the MSS. of the Ludus\\nde Morte Claudii, nor is there anything in the piece which suits the title\\nvery well.\\n\\nAs a literary form, the piece belongs to the class called\\n_Satura Menippea_, a satiric medley in prose and verse.\\n\\nThis text is that of Buecheler, with a few trifling changes, which are\\nindicated in the notes. We have been courteously allowed by Messrs\\nWeidmann to use this text. I have to acknowledge the help of Mr Ball\\'s\\nnotes, from which I have taken a few references; but my translation was\\nmade many years ago.\\n\\nW.H.D. ROUSE.\\n\\n\\n\\n\\n\\nBIBLIOGRAPHY\\n\\n_Editio Princeps:_ Lucii Annaei Senecae in morte\\n  Claudii Caesaris Ludus nuper repertus: Rome,\\n  1513.\\n\\n_Latest critical text:_ Franz Buecheler, Weidmann, 1904\\n  (a reprint with a few changes of the text from\\n  a larger work, Divi Claudii [Greek: Apokolokuntosis] in\\n  the Symbola Philologorum Bonnensium, fasc. i,\\n  1864).\\n\\n_Translations and helps:_ The Satire of Seneca on the\\n  Apotheosis of Claudius, by A.P. Ball (with introduction,\\n  notes, and translations): New York:\\n  Columbia University Press; London, Macmillan,\\n  1902.\\n\\n\\n\\n\\nSENECA\\n\\nAPOCOLOCYNTOSIS, OR LUDUS DE MORTE CLAUDII: THE PUMPKINIFICATION OF\\nCLAUDIUS.\\n\\nI wish to place on record the proceedings in heaven                       1\\nOctober 13 last, of the new year which begins this auspicious age. It\\nshall be done without malice or favour. This is the truth. Ask if you like\\nhow I know it? To begin with, I am not bound to please you with my answer.\\nWho will compel me? I know the same day made me free, which was the last\\nday for him who made the proverb true--One must be born either a Pharaoh\\nor a fool. If I choose to answer, I will say whatever trips off my tongue.\\nWho has ever made the historian produce witness to swear for him? But if\\nan authority must be produced, ask of the man who saw Drusilla translated\\nto heaven: the same man will aver he saw Claudius on the road, dot and\\ncarry one. [Sidenote: Virg. Aen. ii, 724] Will he nill he, all that happens\\nin heaven he needs must see. He is the custodian of the Appian Way; by that\\nroute, you know, both Tiberius and Augustus went up to the gods. Question\\nhim, he will tell you the tale when you are alone; before company he is\\ndumb. You see he swore in the Senate that he beheld Drusilla mounting\\nheavenwards, and all he got for his good news was that everybody gave him\\nthe lie: since when he solemnly swears he will never bear witness again to\\nwhat he has seen, not even if he had seen a man murdered in open market.\\nWhat he told me I report plain and clear, as I hope for his health and\\nhappiness.\\n\\n  Now had the sun with shorter course drawn in his risen light,           2\\n  And by equivalent degrees grew the dark hours of night:\\n  Victorious Cynthia now held sway over a wider space,\\n  Grim winter drove rich autumn out, and now usurped his place;\\n  And now the fiat had gone forth that Bacchus must grow old,\\n  The few last clusters of the vine were gathered ere the cold:\\n\\nI shall make myself better understood, if I say the month was October, the\\nday was the thirteenth. What hour it was I cannot certainly tell;\\nphilosophers will agree more often than clocks; but it was between midday\\nand one after noon. \"Clumsy creature!\" you say. \"The poets are not content\\nto describe sunrise and sunset, and now they even disturb the midday\\nsiesta. Will you thus neglect so good an hour?\"\\n\\n  Now the sun\\'s chariot had gone by the middle of his way;\\n  Half wearily he shook the reins, nearer to night than day,\\n  And led the light along the slope that down before him lay.\\n\\nClaudius began to breathe his last, and could not                         3\\nmake an end of the matter. Then Mercury, who had always been much pleased\\nwith his wit, drew aside one of the three Fates, and said: \"Cruel beldame,\\nwhy do you let the poor wretch be tormented? After all this torture cannot\\nhe have a rest? Four and sixty years it is now since he began to pant for\\nbreath. What grudge is this you bear against him and the whole empire? Do\\nlet the astrologers tell the truth for once; since he became emperor, they\\nhave never let a year pass, never a month, without laying him out for his\\nburial. Yet it is no wonder if they are wrong, and no one knows his hour.\\nNobody ever believed he was really quite born. [Footnote: A proverb for a\\nnobody, as Petron, 58 _qui te natum non putat._] Do what has to be done:\\nKill him, and let a better man rule in empty court.\"\\n[Sidenote: Virg. Georg iv. 90]\\n\\nClotho replied: \"Upon my word, I did wish to give him another hour or two,\\nuntil he should make Roman citizens of the half dozen who are still\\noutsiders. (He made up his mind, you know, to see the whole world in the\\ntoga, Greeks, Gauls, Spaniards, Britons, and all.) But since it is your\\npleasure to leave a few foreigners for seed, and since you command me, so\\nbe it.\" She opened her box and out came three spindles. One was for\\nAugurinus, one for Baba, one for Claudius. [Footnote: \"Augurinus\" unknown.\\nBaba: see Sep. Ep. 159, a fool.] \"These three,\" she says, \"I will cause to\\ndie within one year and at no great distance apart, and I will not dismiss\\nhim unattended. Think of all the thousands of men he was wont to see\\nfollowing after him, thousands going before, thousands all crowding about\\nhim, and it would never do to leave him alone on a sudden. These boon\\ncompanions will satisfy him for the nonce.\"\\n\\n  This said, she twists the thread around his ugly spindle once,          4\\n  Snaps off the last bit of the life of that Imperial dunce.\\n  But Lachesis, her hair adorned, her tresses neatly bound,\\n  Pierian laurel on her locks, her brows with garlands crowned,\\n  Plucks me from out the snowy wool new threads as white as snow,\\n  Which handled with a happy touch change colour as they go,\\n  Not common wool, but golden wire; the Sisters wondering gaze,\\n  As age by age the pretty thread runs down the golden days.\\n  World without end they spin away, the happy fleeces pull;\\n  What joy they take to fill their hands with that delightful wool!\\n  Indeed, the task performs itself: no toil the spinners know:\\n  Down drops the soft and silken thread as round the spindles go;\\n  Fewer than these are Tithon\\'s years, not Nestor\\'s life so long.\\n  Phoebus is present: glad he is to sing a merry song;\\n  Now helps the work, now full of hope upon the harp doth play;\\n  The Sisters listen to the song that charms their toil away.\\n  They praise their brother\\'s melodies, and still the spindles run,\\n  Till more than man\\'s allotted span the busy hands have spun.\\n  Then Phoebus says, \"O sister Fates! I pray take none away,\\n  But suffer this one life to be longer than mortal day.\\n  Like me in face and lovely grace, like me in voice and song,\\n  He\\'ll bid the laws at length speak out that have been dumb so long,\\n  Will give unto the weary world years prosperous and bright.\\n  Like as the daystar from on high scatters the stars of night,\\n  As, when the stars return again, clear Hesper brings his light,\\n  Or as the ruddy dawn drives out the dark, and brings the day,\\n  As the bright sun looks on the world, and speeds along its way\\n  His rising car from morning\\'s gates: so Caesar doth arise,\\n  So Nero shows his face to Rome before the people\\'s eyes,\\n  His bright and shining countenance illumines all the air,\\n  While down upon his graceful neck fall rippling waves of hair.\"\\n  Thus Apollo. But Lachesis, quite as ready to cast a\\n  favourable eye on a handsome man, spins away by the\\n  handful, and bestows years and years upon Nero out\\n  of her own pocket. As for Claudius, they tell everybody\\n                     to speed him on his way\\n         With cries of joy and solemn litany.\\n\\nAt once he bubbled up the ghost, and there was an end to that shadow of a\\nlife. He was listening to a troupe of comedians when he died, so you see I\\nhave reason to fear those gentry. The last words he was heard to speak in\\nthis world were these. When he had made a great noise with that end of him\\nwhich talked easiest, he cried out, \"Oh dear, oh dear! I think I have made\\na mess of myself.\" Whether he did or no, I cannot say, but certain it is\\nhe always did make a mess of everything.\\n\\nWhat happened next on earth it is mere waste of                           5\\ntime to tell, for you know it all well enough, and there is no fear of your\\never forgetting the impression which that public rejoicing made on your\\nmemory. No one forgets his own happiness. What happened in heaven you shall\\nhear: for proof please apply to my informant. Word comes to Jupiter that a\\nstranger had arrived, a man well set up, pretty grey; he seemed to be\\nthreatening something, for he wagged his head ceaselessly; he dragged the\\nright foot. They asked him what nation he was of; he answered something in\\na confused mumbling voice: his language they did not understand. He was no\\nGreek and no Roman, nor of any known race. On this Jupiter bids Hercules go\\nand find out what country he comes from; you see Hercules had travelled\\nover the whole world, and might be expected to know all the nations in it.\\nBut Hercules, the first glimpse he got, was really much taken aback,\\nalthough not all the monsters in the world could frighten him; when he saw\\nthis new kind of object, with its extraordinary gait, and the voice of no\\nterrestrial beast, but such as you might hear in the leviathans of the\\ndeep, hoarse and inarticulate, he thought his thirteenth labour had come\\nupon him. When he looked closer, the thing seemed to be a kind of man.\\nUp he goes, then, and says what your Greek finds readiest to his tongue:\\n\\n  \"Who art thou, and what thy people? Who thy\\n  parents, where thy home?\"\\n  [Sidenote: Od. i, 17]\\n\\nClaudius was delighted to find literary men up there, and began to hope\\nthere might be some corner for his own historical works. So he caps him\\nwith another Homeric verse, explaining that he was Caesar:\\n\\n  \"Breezes wafted me from Ilion unto the Ciconian land.\"\\n  [Sidenote: Od. ix, 39]\\n\\nBut the next verse was more true, and no less Homeric:\\n\\n  \"Thither come, I sacked a city, slew the people every one.\"\\n\\nHe would have taken in poor simple Hercules, but                          6\\nthat Our Lady of Malaria was there, who left her temple and came alone with\\nhim: all the other gods he had left at Rome. Quoth she, \"The fellow\\'s tale\\nis nothing but lies. I have lived with him all these years, and I tell you,\\nhe was born at Lyons. You behold a fellow-burgess of Marcus. [Footnote:\\nReference unknown.] As I say, he was born at the sixteenth milestone from\\nVienne, a native Gaul. So of course he took Rome, as a good Gaul ought to\\ndo. I pledge you my word that in Lyons he was born, where Licinus\\n[Footnote: A Gallic slave, appointed by Augustus Procurator of Gallia\\nLugudunensis, when he made himself notorious by his extortions. See Dion\\nCass. liv, 21.] was king so many years. But you that have trudged over more\\nroads than any muleteer that plies for hire, you must have come across the\\npeople of Lyons, and you must know that it is a far cry from Xanthus to the\\nRhone.\" At this point Claudius flared up, and expressed his wrath with as\\nbig a growl as he could manage. What he said nobody understood; as a matter\\nof fact, he was ordering my lady of Fever to be taken away, and making that\\nsign with his trembling hand (which was always steady enough for that, if\\nfor nothing else) by which he used to decapitate men. He had ordered her\\nhead to be chopped off. For all the notice the others took of him, they\\nmight have been his own freedmen.\\n\\nThen Hercules said, \"You just listen to me, and                           7\\nstop playing the fool. You have come to the place where the mice nibble\\niron. [Footnote: A proverb, found also in Herondas iii, 76: apparently\\nfairy-land, the land of Nowhere.] Out with the truth, and look sharp, or\\nI\\'ll knock your quips and quiddities out of you.\" Then to make himself all\\nthe more awful, he strikes an attitude and proceeds in his most tragic\\nvein:\\n\\n  \"Declare with speed what spot you claim by birth.\\n  Or with this club fall stricken to the earth!\\n  This club hath ofttimes slaughtered haughty kings!\\n  Why mumble unintelligible things?\\n  What land, what tribe produced that shaking head?\\n  Declare it! On my journey when I sped\\n  Far to the Kingdom of the triple King,\\n  And from the Main Hesperian did bring\\n  The goodly cattle to the Argive town,\\n  There I beheld a mountain looking down\\n  Upon two rivers: this the Sun espies\\n  Right opposite each day he doth arise.\\n  Hence, mighty Rhone, thy rapid torrents flow,\\n  And Arar, much in doubt which way to go,\\n  Ripples along the banks with shallow roll.\\n  Say, is this land the nurse that bred thy soul?\"\\n\\nThese lines he delivered with much spirit and a bold front. All the same,\\nhe was not quite master of his wits, and had some fear of a blow from\\nthe fool. Claudius, seeing a mighty man before him, saw things looked\\nserious and understood that here he had not quite the same pre-eminence\\nas at Rome, where no one was his equal: the Gallic cock was worth most on\\nhis own dunghill. So this is what he was thought to say, as far as could\\nbe made out: \"I did hope, Hercules, bravest of all the gods, that you\\nwould take my part with the rest, and if I should need a voucher, I meant\\nto name you who know me so well. Do but call it to mind, how it was I used\\nto sit in judgment before your temple whole days together during July and\\nAugust. You know what miseries I endured there, in hearing the lawyers\\nplead day and night. If you had fallen amongst these, you may think\\nyourself very strong, but you would have found it worse than the sewers of\\nAugeas: I drained out more filth than you did. But since I want...\"\\n\\n(Some pages have fallen out, in which Hercules must have been persuaded.\\nThe gods are now discussing what Hercules tells them).\\n\\n\"No wonder you have forced your way into the                              8\\nSenate House: no bars or bolts can hold against you. Only do say what\\nspecies of god you want the fellow to be made. An Epicurean god he cannot\\nbe: for they have no troubles and cause none. A Stoic, then? How can he be\\nglobular, as Varro says, without a head or any other projection? There is\\nin him something of the Stoic god, as I can see now: he has neither heart\\nnor head. Upon my word, if he had asked this boon from Saturn, he would not\\nhave got it, though he kept up Saturn\\'s feast all the year round, a truly\\nSaturnalian prince. A likely thing he will get it from Jove, whom he\\ncondemned for incest as far as in him lay: for he killed his son-in-law\\nSilanus, because Silanus had a sister, a most charming girl, called Venus\\nby all the world, and he preferred to call her Juno. Why, says he, I want\\nto know why, his own sister? Read your books, stupid: you may go half-way\\nat Athens, the whole way at Alexandria. Because the mice lick meal at Rome,\\nyou say. Is this creature to mend our crooked ways? What goes on in his own\\ncloset he knows not;[Footnote: Perhaps alluding to a mock marriage of\\nSilius and Messalina.] and now he searches the regions of the sky, wants to\\nbe a god. Is it not enough that he has a temple in Britain, that savages\\nworship him and pray to him as a god, so that they may find a fool\\n[Footnote: Again [GREEK: morou] for [GREEK: theou] as in ch. 6.] to have\\nmercy upon them?\"\\n\\nAt last it came into Jove\\'s head, that while strangers                    9\\nwere in the House it was not lawful to speak or debate. \"My lords and\\ngentlemen,\" said he, \"I gave you leave to ask questions, and you have made\\na regular farmyard [Footnote: Proverb: meaning unknown.] of the place. Be\\nso good as to keep the rules of the House. What will this person think of\\nus, whoever he is?\" So Claudius was led out, and the first to be asked his\\nopinion was Father Janus: he had been made consul elect for the afternoon\\nof the next first of July,[Footnote: Perhaps an allusion to the shortening\\nof the consul\\'s term, which was done to give more candidates a chance of\\nthe honour.] being as shrewd a man as you could find on a summer\\'s day: for\\nhe could see, as they say, before and behind. [Footnote 8: II, iii, 109;\\nalluding here to Janus\\'s double face.] He made an eloquent harangue,\\nbecause his life was passed in the forum, but too fast for the notary to\\ntake down. That is why I give no full report of it, for I don\\'t want to\\nchange the words he used. He said a great deal of the majesty of the gods,\\nand how the honour ought not to be given away to every Tom, Dick, or Harry.\\n\"Once,\" said he, \"it was a great thing to become a god; now you have made\\nit a farce. Therefore, that you may not think I am speaking against one\\nperson instead of the general custom, I propose that from this day forward\\nthe godhead be given to none of those who eat the fruits of the earth, or\\nwhom mother earth doth nourish. After this bill has been read a third time,\\nwhosoever is made, said, or portrayed to be god, I vote he be delivered\\nover to the bogies, and at the next public show be flogged with a birch\\namongst the new gladiators.\" The next to be asked was Diespiter, son of\\nVica Pota, he also being consul elect, and a moneylender; by this trade he\\nmade a living, used to sell rights of citizenship in a small way. Hercules\\ntrips me up to him daintily, and tweaks him by the ear. So he uttered his\\nopinion in these words: \"Inasmuch as the blessed Claudius is akin to the\\nblessed Augustus, and also to the blessed Augusta, his grandmother, whom he\\nordered to be made a goddess, and whereas he far surpasses all mortal men\\nin wisdom, and seeing that it is for the public good that there be some one\\nable to join Romulus in devouring boiled turnips, I propose that from this\\nday forth blessed Claudius be a god, to enjoy that honour with all its\\nappurtenances in as full a degree as any other before him, and that a note\\nto that effect be added to Ovid\\'s Metamorphoses.\" The meeting was divided,\\nand it looked as though Claudius was to win the day. For Hercules saw his\\niron was in the fire, trotted here and trotted there, saying, \"Don\\'t deny\\nme; I make a point of the matter. I\\'ll do as much for you again, when you\\nlike; you roll my log, and I\\'ll roll yours: one hand washes another.\"\\n\\nThen arose the blessed Augustus, when his turn                           10\\ncame, and spoke with much eloquence. [Footnote: The speech seems to contain\\na parody of Augustus\\'s style and sayings.] \"I call you to witness, my lords\\nand gentlemen,\" said he, \"that since the day I was made a god I have never\\nuttered one word. I always mind my own business. But now I can keep on the\\nmask no longer, nor conceal the sorrow which shame makes all the greater.\\nIs it for this I have made peace by land and sea? For this have I calmed\\nintestine wars? For this, laid a firm foundation of law for Rome, adorned\\nit with buildings, and all that--my lords, words fail me; there are none\\ncan rise to the height of my indignation. I must borrow that saying of the\\neloquent Messala Corvinus, I am ashamed of my authority. [Footnote: M.\\nValerius Messala Corvinus, appointed praefectus urbi, resigned within a\\nweek.] This man, my lords, who looks as though he could not hurt a fly,\\nused to chop off heads as easily as a dog sits down. But why should I speak\\nof all those men, and such men? There is no time to lament for public\\ndisasters, when one has so many private sorrows to think of. I leave that,\\ntherefore, and say only this; for even if my sister knows no Greek, I do:\\nThe knee is nearer than the shin. [Footnote: A proverb, like \"Charity\\nbegins at home.\" The reading of the passage is uncertain; \"sister\" is only\\na conjecture, and it is hard to see why his sister should be mentioned.]\\nThis man you see, who for so many years has been masquerading under my\\nname, has done me the favour of murdering two Julias, great-granddaughters\\nof mine, one by cold steel and one by starvation; and one great grandson,\\nL. Silanus--see, Jupiter, whether he had a case against him (at least it is\\nyour own if you will be fair.) Come tell me, blessed Claudius, why of all\\nthose you killed, both men and women, without a hearing, why you did not\\nhear their side of the case first, before putting them to death? Where do\\nwe find that custom? It is not done in heaven.\\nLook at Jupiter: all these years he has been                             11\\nking, and never did more than once to break Vulcan\\'s leg,\\n\\n  \\'Whom seizing by the foot he cast from the threshold of the sky,\\'\\n  [Sidenote: Illiad i, 591]\\n\\nand once he fell in a rage with his wife and strung her up: did he do any\\nkilling? You killed Messalina, whose great-uncle I was no less than yours.\\n\\'I don\\'t know,\\' did you say? Curse you! that is just it: not to know was\\nworse than to kill. Caligula he went on persecuting even when he was dead.\\nCaligula murdered his father-in-law, Claudius his son-in-law to boot.\\nCaligula would not have Crassus\\' son called Great; Claudius gave him his\\nname back, and took away his head. In one family he destroyed Crassus,\\nMagnus, Scribonia, the Tristionias, Assario, noble though they were;\\nCrassus indeed such a fool that he might have been emperor. Is this he you\\nwant now to make a god? Look at his body, born under the wrath of heaven!\\nIn fine, let him say the three words [Footnote: Some formula such as _ais\\nesse meum_.] quickly, and he may have me for a slave. God! who will worship\\nthis god, who will believe in him? While you make gods of such as he, no\\none will believe you to be gods. To be brief, my lords: if I have lived\\nhonourably among you, if I have never given plain speech to any, avenge my\\nwrongs. This is my motion\": then he read out his amendment, which he had\\ncommitted to writing: \"Inasmuch as the blessed Claudius murdered his\\nfather-in-law Appius Silanus, his two sons-in-law, Pompeius Magnus and L.\\nSilanus, Crassus Frugi his daughter\\'s father-in-law, as like him as two\\neggs in a basket, Scribonia his daughter\\'s mother-in-law, his wife\\nMessalina, and others too numerous to mention; I propose that strong\\nmeasures be taken against him, that he be allowed no delay of process, that\\nimmediate sentence of banishment be passed on him, that he be deported from\\nheaven within thirty days, and from Olympus within thirty hours.\"\\n\\nThis motion was passed without further debate. Not a moment was lost:\\nMercury screwed his neck and haled him to the lower regions, to that bourne\\n\"from which they say no traveller returns.\" [Footnote: Catullus iii, 12.]\\nAs they passed downwards along the Sacred Way, Mercury asked what was that\\ngreat concourse of men? could it be Claudius\\' funeral? It was certainly a\\nmost gorgeous spectacle, got up regardless of expense, clear it was that a\\ngod was being borne to the grave: tootling of flutes, roaring of horns, an\\nimmense brass band of all sorts, such a din that even Claudius could hear\\nit. Joy and rejoicing on every side, the Roman people walking about like\\nfree men. Agatho and a few pettifoggers were weeping for grief, and for\\nonce in a way they meant it. The Barristers were crawling out of their\\ndark corners, pale and thin, with hardly a breath in their bodies, as\\nthough just coming to life again. One of them when he saw the pettifoggers\\nputting their heads together, and lamenting their sad lot, up comes he and\\nsays: \"Did not I tell you the Saturnalia could not last for ever?\"\\n\\nWhen Claudius saw his own funeral train, he understood that he was dead.\\nFor they were chanting his dirge in anapaests, with much mopping and\\nmouthing:\\n\\n  \"Pour forth your laments, your sorrow declare,\\n  Let the sounds of grief rise high in the air:\\n  For he that is dead had a wit most keen,\\n  Was bravest of all that on earth have been.\\n  Racehorses are nothing to his swift feet:\\n  Rebellious Parthians he did defeat;\\n  Swift after the Persians his light shafts go:\\n  For he well knew how to fit arrow to bow,\\n  Swiftly the striped barbarians fled:\\n  With one little wound he shot them dead.\\n  And the Britons beyond in their unknown seas,\\n  Blue-shielded Brigantians too, all these\\n  He chained by the neck as the Romans\\' slaves.\\n  He spake, and the Ocean with trembling waves\\n  Accepted the axe of the Roman law.\\n  O weep for the man! This world never saw\\n  One quicker a troublesome suit to decide,\\n  When only one part of the case had been tried,\\n  (He could do it indeed and not hear either side).\\n  Who\\'ll now sit in judgment the whole year round?\\n  Now he that is judge of the shades underground\\n  Once ruler of fivescore cities in Crete,\\n  Must yield to his better and take a back seat.\\n  Mourn, mourn, pettifoggers, ye venal crew,\\n  And you, minor poets, woe, woe is to you!\\n  And you above all, who get rich quick\\n  By the rattle of dice and the three card trick.\"\\n\\nClaudius was charmed to hear his own praises sung,                       13\\nand would have stayed longer to see the show. But the Talthybius\\n[Footnote: Talthybius was a herald, and _nuntius_ is obviously a gloss on\\nthis. He means Mercury.] of the gods laid a hand on him, and led him across\\nthe Campus Martius, first wrapping his head up close that no one might know\\nhim, until betwixt Tiber and the Subway he went down to the lower regions.\\n[Footnote: By the Cloaca?] His freedman Narcissus had gone down before him\\nby a short cut, ready to welcome his master. Out he comes to meet him,\\nsmooth and shining (he had just left the bath), and says he: \"What make the\\ngods among mortals?\" \"Look alive,\" says Mercury, \"go and tell them we are\\ncoming.\" Away he flew, quicker than tongue can tell. It is easy going by\\nthat road, all down hill. So although he had a touch of the gout, in a\\ntrice they were come to Dis\\'s door. There lay Cerberus, or, as Horace puts\\nit, the hundred-headed monster. [Sidenote: Odes ii, 13, 35] Claudius was a\\ntrifle perturbed (it was a little white bitch he used to keep for a pet)\\nwhen he spied this black shag-haired hound, not at all the kind of thing\\nyou could wish to meet in the dark.  In a loud voice he cried, \"Claudius is\\ncoming!\" All marched before him singing, \"The lost is found, O let us\\nrejoice together!\" [Footnote: With a slight change, a cry used in the\\nworship of Osiris.] Here were found C. Silius consul elect, Juncus the\\nex-praetor, Sextus Traulus, M. Helvius, Trogus, Cotta, Vettius Valens,\\nFabius, Roman Knights whom Narcissus had ordered for execution. In the\\nmidst of this chanting company was Mnester the mime, whom Claudius for\\nhonour\\'s sake had made shorter by a head. The news was soon blown about\\nthat Claudius had come: to Messalina they throng: first his freedmen,\\nPolybius, Myron, Harpocras, Amphaeus, Pheronactus, all sent before him by\\nClaudius that he might not be unattended anywhere; next two prefects,\\nJustus Catonius and Rufrius Pollio; then his friends, Saturninus, Lusius\\nand Pedo Pompeius and Lupus and Celer Asinius, these of consular rank; last\\ncame his brother\\'s daughter, his sister\\'s daughter, sons-in-law, fathers\\nand mothers-in-law, the whole family in fact. In a body they came to meet\\nClaudius; and when Claudius saw them, he exclaimed, \"Friends everywhere, on\\nmy word! How came you all here?\" To this Pedo Pompeius answered, \"What,\\ncruel man? How came we here? Who but you sent us, you, the murderer of all\\nthe friends that ever you had? To court with you! I\\'ll show you where their\\nlordships sit.\"\\n\\nPedo brings him before the judgement seat of                             14\\nAeacus, who was holding court under the Lex Cornelia to try cases of murder\\nand assassination. Pedo requests the judge to take the prisoner\\'s name, and\\nproduces a summons with this charge: Senators killed, 35; Roman Knights,\\n221; others as the sands of the sea-shore for multitude. [Sidenote:  Il. ix,\\n385] Claudius finds no counsel. At length out steps P. Petronius, an old\\nchum of his, a finished scholar in the Claudian tongue and claims a remand.\\nNot granted. Pedo Pompeius prosecutes with loud outcry. The counsel for the\\ndefence tries to reply; but Aeacus, who is the soul of justice, will not\\nhave it. Aeacus hears the case against Claudius, refuses to hear the other\\nside and passes sentence against him, quoting the line:\\n\\n  \"As he did, so be he done by, this is justice undefiled.\"\\n  [Footnote: A proverbial line.]\\n\\nA great silence fell. Not a soul but was stupefied at this new way of\\nmanaging matters; they had never known anything like it before. It was no\\nnew thing to Claudius, yet he thought it unfair. There was a long\\ndiscussion as to the punishment he ought to endure. Some said that Sisyphus\\nhad done his job of porterage long enough; Tantalus would be dying of\\nthirst, if he were not relieved; the drag must be put at last on wretched\\nIxion\\'s wheel. But it was determined not to let off any of the old stagers,\\nlest Claudius should dare to hope for any such relief. It was agreed that\\nsome new punishment must be devised: they must devise some new task,\\nsomething senseless, to suggest some craving without result. Then Aeacus\\ndecreed he should rattle dice for ever in a box with no bottom. At once the\\npoor wretch began his fruitless task of hunting for the dice, which for\\never slipped from his fingers.\\n\\n  \"For when he rattled with the box, and thought he now had got \\'em.     15\\n  The little cubes would vanish thro\\' the perforated bottom.\\n  Then he would pick \\'em up again, and once more set a-trying:\\n  The dice but served him the same trick: away they went a-flying.\\n  So still he tries, and still he fails; still searching long he lingers;\\n  And every time the tricksy things go slipping thro\\' his fingers.\\n  Just so when Sisyphus at last once gets there with his boulder,\\n  He finds the labour all in vain--it rolls down off his shoulder.\"\\n\\nAll on a sudden who should turn up but Caligula, and claims the man for a\\nslave: brings witnesses, who said they had seen him being flogged, caned,\\nfisticuffed by him. He is handed over to Caligula, and Caligula makes him\\na present to Aeacus. Aeacus delivers him to his freedman Menander, to be\\nhis law-clerk.\\n\\n\\n\\n\\n\\nEnd of the Project Gutenberg EBook of Apocolocyntosis, by Lucius Seneca\\n\\n'"
      ]
     },
     "execution_count": 11,
     "metadata": {},
     "output_type": "execute_result"
    }
   ],
   "source": [
    "df[\"text\"].iloc[0]"
   ]
  },
  {
   "cell_type": "code",
   "execution_count": null,
   "id": "a41eb9db-4d4f-4217-b509-193117c05ed8",
   "metadata": {},
   "outputs": [],
   "source": []
  }
 ],
 "metadata": {
  "kernelspec": {
   "display_name": "gradio",
   "language": "python",
   "name": "gradio"
  },
  "language_info": {
   "codemirror_mode": {
    "name": "ipython",
    "version": 3
   },
   "file_extension": ".py",
   "mimetype": "text/x-python",
   "name": "python",
   "nbconvert_exporter": "python",
   "pygments_lexer": "ipython3",
   "version": "3.12.2"
  }
 },
 "nbformat": 4,
 "nbformat_minor": 5
}
